{
  "nbformat": 4,
  "nbformat_minor": 0,
  "metadata": {
    "colab": {
      "name": "LR_basic",
      "provenance": [],
      "authorship_tag": "ABX9TyNNpQIyd2mgEGRYeaH2fyWa",
      "include_colab_link": true
    },
    "kernelspec": {
      "name": "python3",
      "display_name": "Python 3"
    },
    "language_info": {
      "name": "python"
    }
  },
  "cells": [
    {
      "cell_type": "markdown",
      "metadata": {
        "id": "view-in-github",
        "colab_type": "text"
      },
      "source": [
        "<a href=\"https://colab.research.google.com/github/DgBack/LinearRegression_Basic/blob/main/LR_basic.ipynb\" target=\"_parent\"><img src=\"https://colab.research.google.com/assets/colab-badge.svg\" alt=\"Open In Colab\"/></a>"
      ]
    },
    {
      "cell_type": "markdown",
      "source": [
        "Trước hết chúng ta sẽ gọ thư viện cần sử dụng\n"
      ],
      "metadata": {
        "id": "ZTZmjwUllO73"
      }
    },
    {
      "cell_type": "code",
      "execution_count": 1,
      "metadata": {
        "id": "DZidSAvpxi6P"
      },
      "outputs": [],
      "source": [
        "import numpy as np \n",
        "import matplotlib \n",
        "import matplotlib.pyplot as plt "
      ]
    },
    {
      "cell_type": "markdown",
      "source": [
        "Ta cần một tập dữ liệu đầu vào , chọn random nha \n"
      ],
      "metadata": {
        "id": "JVO9TbVGn_rB"
      }
    },
    {
      "cell_type": "code",
      "source": [
        "A = [2,5,7,9,11,16,19,23,22,29,29,35,37,40,46]\n",
        "b = [2,3,4,5,6,7,8,9,10,11,12,13,14,15,16]\n"
      ],
      "metadata": {
        "id": "PYbJSHPBlgT7"
      },
      "execution_count": 2,
      "outputs": []
    },
    {
      "cell_type": "markdown",
      "source": [
        "Cho xem qua dữ liệu \n"
      ],
      "metadata": {
        "id": "0fbcc7bgt3OV"
      }
    },
    {
      "cell_type": "code",
      "source": [
        "plt.plot(A,b,'ro')"
      ],
      "metadata": {
        "colab": {
          "base_uri": "https://localhost:8080/",
          "height": 282
        },
        "id": "d_W9UFsGnTET",
        "outputId": "0d602365-186a-42a3-e761-e3bcbf3ca925"
      },
      "execution_count": 3,
      "outputs": [
        {
          "output_type": "execute_result",
          "data": {
            "text/plain": [
              "[<matplotlib.lines.Line2D at 0x7f658f54f5d0>]"
            ]
          },
          "metadata": {},
          "execution_count": 3
        },
        {
          "output_type": "display_data",
          "data": {
            "text/plain": [
              "<Figure size 432x288 with 1 Axes>"
            ],
            "image/png": "[encoded data removed]"
          },
          "metadata": {
            "needs_background": "light"
          }
        }
      ]
    },
    {
      "cell_type": "markdown",
      "source": [
        "Chuyển đổi dạng vector hàng thành vector cột"
      ],
      "metadata": {
        "id": "RC2zFl_tuEPz"
      }
    },
    {
      "cell_type": "code",
      "source": [
        "A = np.array([A]).T\n",
        "b = np.array([b]).T"
      ],
      "metadata": {
        "id": "YaCFbb5auCWJ"
      },
      "execution_count": 4,
      "outputs": []
    },
    {
      "cell_type": "markdown",
      "source": [
        "thêm vector 1"
      ],
      "metadata": {
        "id": "CYn5m5tFuH0b"
      }
    },
    {
      "cell_type": "code",
      "source": [
        "ones = np.ones((A.shape[0],1), dtype=np.int8)"
      ],
      "metadata": {
        "id": "UsGPerHsuJZX"
      },
      "execution_count": 5,
      "outputs": []
    },
    {
      "cell_type": "markdown",
      "source": [
        "Kết hợp với vector A"
      ],
      "metadata": {
        "id": "XV3T1Cb1uNNy"
      }
    },
    {
      "cell_type": "code",
      "source": [
        "A = np.concatenate((A, ones), axis =1)"
      ],
      "metadata": {
        "id": "nDPtF4RhuK87"
      },
      "execution_count": 6,
      "outputs": []
    },
    {
      "cell_type": "markdown",
      "source": [
        ""
      ],
      "metadata": {
        "id": "YmsE5Vh0uQew"
      }
    },
    {
      "cell_type": "code",
      "source": [
        "x = np.linalg.inv(A.transpose().dot(A)).dot(A.transpose()).dot(b)\n",
        "\n",
        "\n",
        "x0 = np.array([[1,46]]).T\n",
        "y0 = x0*x[0][0] + x[1][0]\n",
        "\n",
        "plt.plot(x0,y0)\n",
        "\n",
        "\n",
        "x_test = 12\n",
        "y_test = x_test*x[0][0] + x[1][0]\n",
        "\n",
        "print(y_test)\n",
        "plt.show()"
      ],
      "metadata": {
        "colab": {
          "base_uri": "https://localhost:8080/",
          "height": 282
        },
        "id": "ndlCAPlpuRHo",
        "outputId": "08e83e88-97fe-4dbf-ec4c-4e5d0250c73e"
      },
      "execution_count": 7,
      "outputs": [
        {
          "output_type": "stream",
          "name": "stdout",
          "text": [
            "5.7638152914458765\n"
          ]
        },
        {
          "output_type": "display_data",
          "data": {
            "text/plain": [
              "<Figure size 432x288 with 1 Axes>"
            ],
            "image/png": "[encoded data removed]"
          },
          "metadata": {
            "needs_background": "light"
          }
        }
      ]
    }
  ]
}